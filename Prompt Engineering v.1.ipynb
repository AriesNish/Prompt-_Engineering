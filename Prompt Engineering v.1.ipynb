{
 "cells": [
  {
   "cell_type": "markdown",
   "id": "8493b3dc",
   "metadata": {},
   "source": [
    "# Prompt Engineering ChatGPT"
   ]
  },
  {
   "cell_type": "code",
   "execution_count": 1,
   "id": "81cad0d7",
   "metadata": {},
   "outputs": [
    {
     "name": "stdout",
     "output_type": "stream",
     "text": [
      "Requirement already satisfied: openai in c:\\users\\nisht\\anaconda3\\lib\\site-packages (0.27.9)\n",
      "Requirement already satisfied: requests>=2.20 in c:\\users\\nisht\\anaconda3\\lib\\site-packages (from openai) (2.29.0)\n",
      "Requirement already satisfied: tqdm in c:\\users\\nisht\\anaconda3\\lib\\site-packages (from openai) (4.65.0)\n",
      "Requirement already satisfied: aiohttp in c:\\users\\nisht\\anaconda3\\lib\\site-packages (from openai) (3.8.5)\n",
      "Requirement already satisfied: charset-normalizer<4,>=2 in c:\\users\\nisht\\anaconda3\\lib\\site-packages (from requests>=2.20->openai) (2.0.4)\n",
      "Requirement already satisfied: idna<4,>=2.5 in c:\\users\\nisht\\appdata\\roaming\\python\\python310\\site-packages (from requests>=2.20->openai) (3.4)\n",
      "Requirement already satisfied: urllib3<1.27,>=1.21.1 in c:\\users\\nisht\\anaconda3\\lib\\site-packages (from requests>=2.20->openai) (1.26.16)\n",
      "Requirement already satisfied: certifi>=2017.4.17 in c:\\users\\nisht\\anaconda3\\lib\\site-packages (from requests>=2.20->openai) (2023.7.22)\n",
      "Requirement already satisfied: attrs>=17.3.0 in c:\\users\\nisht\\appdata\\roaming\\python\\python310\\site-packages (from aiohttp->openai) (23.1.0)\n",
      "Requirement already satisfied: multidict<7.0,>=4.5 in c:\\users\\nisht\\anaconda3\\lib\\site-packages (from aiohttp->openai) (6.0.4)\n",
      "Requirement already satisfied: async-timeout<5.0,>=4.0.0a3 in c:\\users\\nisht\\anaconda3\\lib\\site-packages (from aiohttp->openai) (4.0.3)\n",
      "Requirement already satisfied: yarl<2.0,>=1.0 in c:\\users\\nisht\\anaconda3\\lib\\site-packages (from aiohttp->openai) (1.9.2)\n",
      "Requirement already satisfied: frozenlist>=1.1.1 in c:\\users\\nisht\\anaconda3\\lib\\site-packages (from aiohttp->openai) (1.4.0)\n",
      "Requirement already satisfied: aiosignal>=1.1.2 in c:\\users\\nisht\\anaconda3\\lib\\site-packages (from aiohttp->openai) (1.3.1)\n",
      "Requirement already satisfied: colorama in c:\\users\\nisht\\appdata\\roaming\\python\\python310\\site-packages (from tqdm->openai) (0.4.6)\n"
     ]
    },
    {
     "name": "stderr",
     "output_type": "stream",
     "text": [
      "\n",
      "[notice] A new release of pip is available: 23.1.2 -> 23.2.1\n",
      "[notice] To update, run: python.exe -m pip install --upgrade pip\n"
     ]
    }
   ],
   "source": [
    "#install relevant libraries\n",
    "#!pip install openai\n",
    "\n",
    "import openai\n",
    "import os\n"
   ]
  },
  {
   "cell_type": "code",
   "execution_count": 2,
   "id": "69354df3",
   "metadata": {},
   "outputs": [],
   "source": [
    "#fetching openai api key \n",
    "openai.api_key = \"sk-\" # insert your api key"
   ]
  },
  {
   "cell_type": "code",
   "execution_count": 8,
   "id": "9874e733",
   "metadata": {},
   "outputs": [],
   "source": [
    "# Priming the Model: helper function to generate output\n",
    "\n",
    "def get_completion(prompt, model=\"gpt-3.5-turbo\"):\n",
    "    messages = [{\"role\": \"user\", \"content\": prompt}]\n",
    "    response = openai.ChatCompletion.create(\n",
    "        model=model,\n",
    "        messages=messages,\n",
    "        temperature=0, # this is the degree of randomness of the model's output\n",
    "    )\n",
    "    return response.choices[0].message[\"content\"]"
   ]
  },
  {
   "cell_type": "code",
   "execution_count": 14,
   "id": "5b7ca16b",
   "metadata": {},
   "outputs": [
    {
     "name": "stdout",
     "output_type": "stream",
     "text": [
      "The text emphasizes the importance of providing clear and specific instructions to improve the performance of a model and avoid nonsensical or incorrect responses, highlighting that clarity is more important than brevity and suggesting the use of longer prompts for better output.\n"
     ]
    }
   ],
   "source": [
    "#Using delimiters to separate inputs\n",
    "\n",
    "text = f\"\"\"\n",
    "One should always be clear in \\n\n",
    "providing instructions that makes sense and are \\n\n",
    "specific to make the model work better. \\n \n",
    "It helps in assisting the model to make better output, \\n \n",
    "while minimizing the chances of receiving nonsensical \\n \n",
    "or incorrect responses. Writing clearly is not \\n \n",
    "same as writing shortly \\n \n",
    "If your longer prompt provides more clarity \\n \n",
    "then use that one to make sure the output is \\n\n",
    "relevant and precise.\n",
    "\"\"\"\n",
    "prompt = f\"\"\"\n",
    "Summarize the text delimited by triple backticks \\n \n",
    "into a single sentence.\n",
    "```{text}```\n",
    "\"\"\"\n",
    "response = get_completion(prompt)\n",
    "print(response)"
   ]
  },
  {
   "cell_type": "code",
   "execution_count": 16,
   "id": "97ae820f",
   "metadata": {},
   "outputs": [
    {
     "name": "stdout",
     "output_type": "stream",
     "text": [
      "<ol>\n",
      "  <li>\n",
      "    <h3>Film ID: 1</h3>\n",
      "    <ul>\n",
      "      <li>Title: The Shawshank Redemption</li>\n",
      "      <li>Director: Frank Darabont</li>\n",
      "      <li>Year of Release: 1994</li>\n",
      "    </ul>\n",
      "  </li>\n",
      "  <li>\n",
      "    <h3>Film ID: 2</h3>\n",
      "    <ul>\n",
      "      <li>Title: The Godfather</li>\n",
      "      <li>Director: Francis Ford Coppola</li>\n",
      "      <li>Year of Release: 1972</li>\n",
      "    </ul>\n",
      "  </li>\n",
      "  <li>\n",
      "    <h3>Film ID: 3</h3>\n",
      "    <ul>\n",
      "      <li>Title: Pulp Fiction</li>\n",
      "      <li>Director: Quentin Tarantino</li>\n",
      "      <li>Year of Release: 1994</li>\n",
      "    </ul>\n",
      "  </li>\n",
      "</ol>\n"
     ]
    }
   ],
   "source": [
    "#generating textured output in HTML format\n",
    "\n",
    "prompt = f\"\"\"\n",
    "Generate a list of three movies along \\ \n",
    "with their directors and years of release. \n",
    "Provide them in HTML format with the following keys: \n",
    "film_id, title, director, year_of_release.\n",
    "\"\"\"\n",
    "response = get_completion(prompt)\n",
    "print(response)"
   ]
  },
  {
   "cell_type": "code",
   "execution_count": 18,
   "id": "0ec5950f",
   "metadata": {},
   "outputs": [
    {
     "name": "stdout",
     "output_type": "stream",
     "text": [
      "[\n",
      "  {\n",
      "    \"film_id\": 1,\n",
      "    \"title\": \"The Shawshank Redemption\",\n",
      "    \"director\": \"Frank Darabont\",\n",
      "    \"year_of_release\": 1994\n",
      "  },\n",
      "  {\n",
      "    \"film_id\": 2,\n",
      "    \"title\": \"The Godfather\",\n",
      "    \"director\": \"Francis Ford Coppola\",\n",
      "    \"year_of_release\": 1972\n",
      "  },\n",
      "  {\n",
      "    \"film_id\": 3,\n",
      "    \"title\": \"Pulp Fiction\",\n",
      "    \"director\": \"Quentin Tarantino\",\n",
      "    \"year_of_release\": 1994\n",
      "  }\n",
      "]\n"
     ]
    }
   ],
   "source": [
    "#generating textured output in JSON format\n",
    "\n",
    "prompt = f\"\"\"\n",
    "Generate a list of three movies along \\ \n",
    "with their directors and years of release. \n",
    "Provide them in JSON format with the following keys: \n",
    "film_id, title, director, year_of_release.\n",
    "\"\"\"\n",
    "response = get_completion(prompt)\n",
    "print(response)"
   ]
  },
  {
   "cell_type": "code",
   "execution_count": 19,
   "id": "8ba36765",
   "metadata": {},
   "outputs": [
    {
     "name": "stdout",
     "output_type": "stream",
     "text": [
      "Completion for Text 1:\n",
      "Step 1 - First get 2 cup water boiling in a pan.\n",
      "Step 2 - While water's boiling, put little piece of ginger, 2 cloves, 1 cardamom, and cinnamom in it.\n",
      "Step 3 - Let it boil till water reduces to half, add 2 spoons loose tea leaves and 1 spoon sugar, and boil.\n",
      "Step 4 - Allow to boil for 2 minutes.\n",
      "Step 5 - Add 1 cup milk to pan and bring to boil on low flame.\n",
      "Step 6 - Strain masala tea in 2 mugs and enjoy.\n"
     ]
    }
   ],
   "source": [
    "#check conditions are met, output in steps for a process\n",
    "text_1 = f\"\"\"\n",
    "make tea Indian way. First get 2 cup water boiling \\n \n",
    "in a pan. While water's boiling, \\n\n",
    "put little piece of ginger, 2 cloves, 1 cardamom,\\n\n",
    "cinnamom in it. Let it boil till \\ \n",
    "water reduces to half, add 2 spoons loose tea \\n\n",
    "leaves, 1 spoon sugar and boil. \\n\n",
    "Allow to boil for 2 minutes. Add 1 cup milk to pan\\n\n",
    "and bring to boil on low flame.\\n\n",
    "Strain masala tea in 2 mugs and enjoy. \n",
    "\"\"\"\n",
    "prompt = f\"\"\"\n",
    "You will be provided with text delimited by triple quotes. \n",
    "If it contains a sequence of instructions, \\ \n",
    "re-write those instructions in the following format:\n",
    "\n",
    "Step 1 - ...\n",
    "Step 2 - …\n",
    "…\n",
    "Step N - …\n",
    "\n",
    "If the text does not contain a sequence of instructions, \\ \n",
    "then simply write \\\"No steps provided.\\\"\n",
    "\n",
    "\\\"\\\"\\\"{text_1}\\\"\\\"\\\"\n",
    "\"\"\"\n",
    "response = get_completion(prompt)\n",
    "print(\"Completion for Text 1:\")\n",
    "print(response)"
   ]
  },
  {
   "cell_type": "code",
   "execution_count": 20,
   "id": "58cacb91",
   "metadata": {},
   "outputs": [
    {
     "name": "stdout",
     "output_type": "stream",
     "text": [
      "<Help>: To manage your subscriptions on iPhone 12, follow these steps:\n",
      "\n",
      "1. Open the \"Settings\" app on your iPhone.\n",
      "2. Scroll down and tap on your Apple ID at the top of the screen.\n",
      "3. Tap on \"Subscriptions\" from the list of options.\n",
      "4. Here, you will see a list of all your active subscriptions.\n",
      "5. To manage a specific subscription, tap on it.\n",
      "6. You can then choose to cancel or modify the subscription settings.\n",
      "7. If you want to cancel a subscription, simply tap on \"Cancel Subscription\" and confirm your choice.\n",
      "8. If you wish to modify the subscription, you can change the billing frequency or other options depending on the app or service.\n",
      "9. After making any changes, tap on \"Done\" to save your settings.\n",
      "\n",
      "Please note that canceling a subscription will prevent further charges, but it will not provide a refund for any previous payments.\n"
     ]
    }
   ],
   "source": [
    "#Self-Consistency Prompting Strategy: generate output in a consistent style using example\n",
    "prompt = f\"\"\"\n",
    "Your task is to answer in a consistent style.\n",
    "\n",
    "<User>: How do I update software on my iPhone 12?\n",
    "\n",
    "<Help>: In the \"General\" section, tap on \"Software Update.\"\\n\n",
    "If a software update is available, you'll see information \\n\n",
    "about the update, including its size and a brief description of new features \\n\n",
    "or improvements. Tap \"Download and Install\" if an update is available. \\n\n",
    "Your iPhone will start downloading the update. \\n\n",
    "Once the download is complete, tap \"Install.\" \\n\n",
    "You might be asked to enter your passcode. The \\n\n",
    "iPhone will restart to begin the installation process.\\n\n",
    "A progress bar will be displayed on the screen. After \\n\n",
    "the update is installed, your iPhone will restart again.\n",
    "\n",
    "\n",
    "<User>: Tell me about managing my subscriptions on iPhone 12.\n",
    "\"\"\"\n",
    "response = get_completion(prompt)\n",
    "print(response)"
   ]
  },
  {
   "cell_type": "code",
   "execution_count": 21,
   "id": "cc758172",
   "metadata": {},
   "outputs": [
    {
     "name": "stdout",
     "output_type": "stream",
     "text": [
      "Completion for prompt 1:\n",
      "1 - The text explains how to create a pie chart in Excel by inputting data, selecting it, going to the \"Insert\" tab, clicking the \"Pie\" chart button, choosing the chart style, and customizing it using options like resizing slices and adding labels, with the ability to update data to automatically reflect changes in the chart.\n",
      "\n",
      "2 - لإنشاء رسم بياني دائري في إكسل، قم بإدخال البيانات الخاصة بك، وحددها، وانتقل إلى علامة التبويب \"إدراج\". انقر على زر \"البيانات الدائرية\"، واختر نمط الرسم البياني، ويقوم إكسل بإنشاء الرسم البياني. قم بتخصيصه باستخدام الخيارات مثل تغيير حجم الشرائح وإضافة التسميات. قم بتحديث البيانات لعكس التغييرات في الرسم البياني.\n",
      "\n",
      "3 - إكسل\n",
      "\n",
      "4 - {\n",
      "    \"arabic_summary\": \"لإنشاء رسم بياني دائري في إكسل، قم بإدخال البيانات الخاصة بك، وحددها، وانتقل إلى علامة التبويب 'إدراج'. انقر على زر 'البيانات الدائرية'، واختر نمط الرسم البياني، ويقوم إكسل بإنشاء الرسم البياني. قم بتخصيصه باستخدام الخيارات مثل تغيير حجم الشرائح وإضافة التسميات. قم بتحديث البيانات لعكس التغييرات في الرسم البياني.\",\n",
      "    \"num_names\": 1\n",
      "}\n"
     ]
    }
   ],
   "source": [
    "#Allow model to think. Define specific steps it takes to generate output\n",
    "text = f\"\"\"\n",
    "To create a pie chart in Excel, input your data, \\n\n",
    "select it, and go to the \"Insert\" tab. Click the \\n\n",
    "\"Pie\" chart button, choose the chart style, and \\n\n",
    "Excel generates the chart. Customize it using options \\n\n",
    "like resizing slices and adding labels. Update data to \\n\n",
    "automatically reflect changes in the chart.\n",
    "\"\"\"\n",
    "# example 1\n",
    "prompt_1 = f\"\"\"\n",
    "Perform the following actions: \n",
    "1 - Summarize the following text delimited by triple \\\n",
    "backticks with 1 sentence.\n",
    "2 - Translate the summary into Arabic.\n",
    "3 - List each name in the Arabic summary.\n",
    "4 - Output a json object that contains the following \\\n",
    "keys: arabic_summary, num_names.\n",
    "\n",
    "Separate your answers with line breaks.\n",
    "\n",
    "Text:\n",
    "```{text}```\n",
    "\"\"\"\n",
    "response = get_completion(prompt_1)\n",
    "print(\"Completion for prompt 1:\")\n",
    "print(response)"
   ]
  },
  {
   "cell_type": "code",
   "execution_count": 22,
   "id": "49542fb1",
   "metadata": {},
   "outputs": [
    {
     "name": "stdout",
     "output_type": "stream",
     "text": [
      "\n",
      "Completion for prompt 2:\n",
      "Summary: To create a pie chart in Excel, input your data, select it, go to the \"Insert\" tab, click the \"Pie\" chart button, choose the chart style, and customize it using options like resizing slices and adding labels.\n",
      "\n",
      "Translation: 在Excel中创建饼图，输入数据，选择数据，转到“插入”选项卡，点击“饼图”按钮，选择图表样式，并使用选项自定义图表，如调整切片大小和添加标签。\n",
      "\n",
      "Names: Excel, \"Insert\" tab\n",
      "\n",
      "Output JSON: {\"mandarin_summary\": \"在Excel中创建饼图，输入数据，选择数据，转到“插入”选项卡，点击“饼图”按钮，选择图表样式，并使用选项自定义图表，如调整切片大小和添加标签。\", \"num_names\": 2}\n"
     ]
    }
   ],
   "source": [
    "prompt_2 = f\"\"\"\n",
    "Your task is to perform the following actions: \n",
    "1 - Summarize the following text delimited by \n",
    "  <> with 1 sentence.\n",
    "2 - Translate the summary into Mandarin.\n",
    "3 - List each name in the Mandarin summary.\n",
    "4 - Output a json object that contains the \n",
    "  following keys: mandarin_summary, num_names.\n",
    "\n",
    "Use the following format:\n",
    "Text: <text to summarize>\n",
    "Summary: <summary>\n",
    "Translation: <summary translation>\n",
    "Names: <list of names in mandarin summary>\n",
    "Output JSON: <json with summary and num_names>\n",
    "\n",
    "Text: <{text}>\n",
    "\"\"\"\n",
    "response = get_completion(prompt_2)\n",
    "print(\"\\nCompletion for prompt 2:\")\n",
    "print(response)"
   ]
  },
  {
   "cell_type": "code",
   "execution_count": null,
   "id": "eb68c57c",
   "metadata": {},
   "outputs": [],
   "source": []
  }
 ],
 "metadata": {
  "kernelspec": {
   "display_name": "Python 3 (ipykernel)",
   "language": "python",
   "name": "python3"
  },
  "language_info": {
   "codemirror_mode": {
    "name": "ipython",
    "version": 3
   },
   "file_extension": ".py",
   "mimetype": "text/x-python",
   "name": "python",
   "nbconvert_exporter": "python",
   "pygments_lexer": "ipython3",
   "version": "3.10.9"
  }
 },
 "nbformat": 4,
 "nbformat_minor": 5
}
