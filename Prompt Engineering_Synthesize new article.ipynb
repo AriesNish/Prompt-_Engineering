{
 "cells": [
  {
   "cell_type": "code",
   "execution_count": 1,
   "id": "1688d440",
   "metadata": {},
   "outputs": [
    {
     "name": "stdout",
     "output_type": "stream",
     "text": [
      "Collecting python-docx\n",
      "  Downloading python-docx-0.8.11.tar.gz (5.6 MB)\n",
      "                                              0.0/5.6 MB ? eta -:--:--\n",
      "     --                                       0.3/5.6 MB 10.2 MB/s eta 0:00:01\n",
      "     -----                                    0.8/5.6 MB 8.7 MB/s eta 0:00:01\n",
      "     -------                                  1.1/5.6 MB 7.5 MB/s eta 0:00:01\n",
      "     ----------                               1.5/5.6 MB 7.7 MB/s eta 0:00:01\n",
      "     ------------                             1.7/5.6 MB 7.4 MB/s eta 0:00:01\n",
      "     --------------                           2.0/5.6 MB 7.5 MB/s eta 0:00:01\n",
      "     --------------                           2.0/5.6 MB 7.5 MB/s eta 0:00:01\n",
      "     --------------                           2.0/5.6 MB 7.5 MB/s eta 0:00:01\n",
      "     ----------------                         2.2/5.6 MB 5.3 MB/s eta 0:00:01\n",
      "     -----------------                        2.4/5.6 MB 5.6 MB/s eta 0:00:01\n",
      "     ----------------------                   3.1/5.6 MB 6.2 MB/s eta 0:00:01\n",
      "     -------------------------                3.5/5.6 MB 6.2 MB/s eta 0:00:01\n",
      "     --------------------------               3.7/5.6 MB 6.3 MB/s eta 0:00:01\n",
      "     -----------------------------            4.1/5.6 MB 6.5 MB/s eta 0:00:01\n",
      "     --------------------------------         4.6/5.6 MB 6.5 MB/s eta 0:00:01\n",
      "     -----------------------------------      4.9/5.6 MB 6.5 MB/s eta 0:00:01\n",
      "     --------------------------------------   5.3/5.6 MB 6.8 MB/s eta 0:00:01\n",
      "     ---------------------------------------  5.5/5.6 MB 6.7 MB/s eta 0:00:01\n",
      "     ---------------------------------------  5.6/5.6 MB 6.6 MB/s eta 0:00:01\n",
      "     ---------------------------------------- 5.6/5.6 MB 6.0 MB/s eta 0:00:00\n",
      "  Preparing metadata (setup.py): started\n",
      "  Preparing metadata (setup.py): finished with status 'done'\n",
      "Requirement already satisfied: lxml>=2.3.2 in c:\\users\\nisht\\anaconda3\\lib\\site-packages (from python-docx) (4.9.2)\n",
      "Building wheels for collected packages: python-docx\n",
      "  Building wheel for python-docx (setup.py): started\n",
      "  Building wheel for python-docx (setup.py): finished with status 'done'\n",
      "  Created wheel for python-docx: filename=python_docx-0.8.11-py3-none-any.whl size=184519 sha256=399aa345320e9be5ee479dcbf4bc7b84e2649e2aed18f8e4290d0e49c820f5d1\n",
      "  Stored in directory: c:\\users\\nisht\\appdata\\local\\pip\\cache\\wheels\\80\\27\\06\\837436d4c3bd989b957a91679966f207bfd71d358d63a8194d\n",
      "Successfully built python-docx\n",
      "Installing collected packages: python-docx\n",
      "Successfully installed python-docx-0.8.11\n"
     ]
    },
    {
     "name": "stderr",
     "output_type": "stream",
     "text": [
      "\n",
      "[notice] A new release of pip is available: 23.1.2 -> 23.2.1\n",
      "[notice] To update, run: python.exe -m pip install --upgrade pip\n"
     ]
    }
   ],
   "source": [
    "# Install necessary libraries\n",
    "!pip install python-docx\n",
    "#!pip install openai\n",
    "\n",
    "import docx\n",
    "import openai"
   ]
  },
  {
   "cell_type": "code",
   "execution_count": 2,
   "id": "92ddb6f1",
   "metadata": {},
   "outputs": [],
   "source": [
    "def read_word_file(filename):\n",
    "    \"\"\"\n",
    "    Read a Word document and return its content.\n",
    "    \"\"\"\n",
    "    doc = docx.Document(filename)\n",
    "    full_text = []\n",
    "    for para in doc.paragraphs:\n",
    "        full_text.append(para.text)\n",
    "    return '\\n'.join(full_text)"
   ]
  },
  {
   "cell_type": "code",
   "execution_count": 3,
   "id": "8d2a0ef0",
   "metadata": {},
   "outputs": [],
   "source": [
    "# Set your OpenAI API Key\n",
    "openai.api_key = \"sk-\""
   ]
  },
  {
   "cell_type": "code",
   "execution_count": 4,
   "id": "e6797b71",
   "metadata": {},
   "outputs": [],
   "source": [
    "# Read the content from the three Word documents\n",
    "article_1 = read_word_file('article1.docx')  # Replace with your file's path\n",
    "article_2 = read_word_file('article2.docx')  # Replace with your file's path\n",
    "article_3 = read_word_file('article3.docx')  # Replace with your file's path\n"
   ]
  },
  {
   "cell_type": "code",
   "execution_count": 5,
   "id": "f2d492c3",
   "metadata": {},
   "outputs": [],
   "source": [
    "# Create the prompt for GPT-4\n",
    "prompt = (f\"Given the three sources provided below, synthesize an original article. \"\n",
    "         f\"Retain essential quotes and facts, ensuring a seamless blend of the information. \"\n",
    "         f\"Do not use headings like 'introduction' or 'conclusion'. \"\n",
    "         f\"Format the content with appropriate HTML tags for better web readability.\\n\"\n",
    "         f\"Source 1: {article_1}\\n\"\n",
    "         f\"Source 2: {article_2}\\n\"\n",
    "         f\"Source 3: {article_3}\")"
   ]
  },
  {
   "cell_type": "code",
   "execution_count": 11,
   "id": "9a24cbc5",
   "metadata": {},
   "outputs": [],
   "source": [
    "# Send prompt to OpenAI API\n",
    "\n",
    "def get_completion(prompt, model=\"gpt-3.5-turbo\"):\n",
    "    messages = [{\"role\": \"user\", \"content\": prompt}]\n",
    "    response = openai.ChatCompletion.create(\n",
    "        model=model,\n",
    "        messages=messages,\n",
    "        temperature=0,\n",
    "        max_tokens=2000 # this is the degree of randomness of the model's output\n",
    "    )\n",
    "    return response.choices[0].message[\"content\"]\n",
    "\n"
   ]
  },
  {
   "cell_type": "code",
   "execution_count": 13,
   "id": "b90634c9",
   "metadata": {},
   "outputs": [
    {
     "name": "stdout",
     "output_type": "stream",
     "text": [
      "India has made history by becoming the fourth country to successfully land a spacecraft on the moon. The Chandrayaan-3 mission touched down on the moon's unexplored south pole, making India the first country to achieve this feat. The mission, which launched last month, landed on the lunar surface at around 8:34 a.m. ET. Indian Prime Minister Narendra Modi watched the livestream of the landing and emphasized that the success of the mission belongs to all of humanity. The lunar south pole is of great interest to scientists due to recent discoveries of water ice, which could be used as a source of fuel for rockets and spacecraft. India's successful landing comes shortly after Russia's failed attempt to land its spacecraft on the moon. India's space agency, ISRO, has been praised for achieving significant milestones in space exploration with a fraction of the budget of other global counterparts. The Chandrayaan-3 mission, originally scheduled for 2021, was delayed due to the Covid pandemic. India's space agency and NASA have signed agreements to collaborate on missions, and next year, they are expected to work together to fly Indian astronauts to the International Space Station. The successful landing of Chandrayaan-3 cements India's status as a global superpower in space.\n"
     ]
    }
   ],
   "source": [
    "response = get_completion(prompt)\n",
    "print(response)"
   ]
  },
  {
   "cell_type": "code",
   "execution_count": null,
   "id": "e9396e1a",
   "metadata": {},
   "outputs": [],
   "source": []
  }
 ],
 "metadata": {
  "kernelspec": {
   "display_name": "Python 3 (ipykernel)",
   "language": "python",
   "name": "python3"
  },
  "language_info": {
   "codemirror_mode": {
    "name": "ipython",
    "version": 3
   },
   "file_extension": ".py",
   "mimetype": "text/x-python",
   "name": "python",
   "nbconvert_exporter": "python",
   "pygments_lexer": "ipython3",
   "version": "3.10.9"
  }
 },
 "nbformat": 4,
 "nbformat_minor": 5
}
